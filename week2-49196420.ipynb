{
 "cells": [
  {
   "cell_type": "markdown",
   "metadata": {},
   "source": [
    "## 第2回課題"
   ]
  },
  {
   "cell_type": "markdown",
   "metadata": {},
   "source": [
    "## 課題1 Circle in a Rectangle"
   ]
  },
  {
   "cell_type": "code",
   "execution_count": 9,
   "metadata": {},
   "outputs": [
    {
     "data": {
      "text/plain": [
       "False"
      ]
     },
     "execution_count": 9,
     "metadata": {},
     "output_type": "execute_result"
    }
   ],
   "source": [
    "def in_rectangle(w,h,x,y,r):\n",
    "    return x+r<=w and x-r>=0 and y+r<=h and y-r>=0\n",
    "\n",
    "#in_rectangle(5,4,2,2,1)\n",
    "in_rectangle(5,4,2,4,1)"
   ]
  },
  {
   "cell_type": "markdown",
   "metadata": {},
   "source": [
    "## 課題2 (hh:mm:ss) watch(46979) は 13:2:59 という文字列を返す."
   ]
  },
  {
   "cell_type": "code",
   "execution_count": 12,
   "metadata": {
    "scrolled": true
   },
   "outputs": [
    {
     "name": "stdout",
     "output_type": "stream",
     "text": [
      "13:2:59\n"
     ]
    }
   ],
   "source": [
    "def watch(x):\n",
    "    h = int(x / (60*60))\n",
    "    m = int((x - (h * 60*60))/60)\n",
    "    s = int(x - (h * 60*60) - (m * 60))\n",
    "    return str(h)+\":\"+str(m)+\":\"+str(s)\n",
    "\n",
    "print(watch(46979))"
   ]
  },
  {
   "cell_type": "markdown",
   "metadata": {},
   "source": [
    "## 課題3 ”internationalization”であれば”i18n”を返す. "
   ]
  },
  {
   "cell_type": "code",
   "execution_count": 30,
   "metadata": {},
   "outputs": [
    {
     "name": "stdout",
     "output_type": "stream",
     "text": [
      "i18n\n",
      "i10a\n",
      "i1t\n",
      "in\n"
     ]
    }
   ],
   "source": [
    "def abbreviate(word):\n",
    "    if len(word) < 3:\n",
    "        return word\n",
    "    \n",
    "    result = word\n",
    "    n = 0\n",
    "    for char in word:\n",
    "        if n == 0:\n",
    "            result = char\n",
    "        if n == len(word) - 1 :\n",
    "            result = result + str(n-1) + char\n",
    "        n = n + 1\n",
    "    return result\n",
    "        \n",
    "print (abbreviate(\"internationalization\"))\n",
    "print (abbreviate(\"internationa\"))\n",
    "print (abbreviate(\"int\"))\n",
    "print (abbreviate(\"in\"))\n",
    "    "
   ]
  },
  {
   "cell_type": "markdown",
   "metadata": {},
   "source": [
    "## 課題4 信用 (issueCC) 借金返済額 dt，返済遅延回数 dl，年収の額 ic "
   ]
  },
  {
   "cell_type": "code",
   "execution_count": 41,
   "metadata": {},
   "outputs": [
    {
     "name": "stderr",
     "output_type": "stream",
     "text": [
      ".\n",
      "----------------------------------------------------------------------\n",
      "Ran 1 test in 0.001s\n",
      "\n",
      "OK\n"
     ]
    }
   ],
   "source": [
    "def issueCC(dt,dl,ic):\n",
    "    DI = dt / ic\n",
    "    \n",
    "    if DI >= 0.28:\n",
    "        return False\n",
    "    \n",
    "    if DI >= 0.2 and DI < 0.28:\n",
    "        if dl >= 1:\n",
    "            return False\n",
    "        else:\n",
    "            if ic >= 300:\n",
    "                return True\n",
    "            else:\n",
    "                return False\n",
    "    \n",
    "    if DI < 0.2:\n",
    "        if dl >= 2:\n",
    "            return False\n",
    "        if dl == 1:\n",
    "            if ic >= 500:\n",
    "                return True\n",
    "            else:\n",
    "                return False\n",
    "        if dl == 0:\n",
    "            if ic >= 300:\n",
    "                return True\n",
    "            else:\n",
    "                return False\n",
    "\n",
    "\n",
    "import unittest\n",
    "\n",
    "class TestKadai(unittest.TestCase):\n",
    "    \n",
    "    def test_kadai4(self):\n",
    "        self.assertFalse(issueCC(3000000,0,10000000))\n",
    "\n",
    "if __name__ == '__main__':\n",
    "    unittest.main(argv=['first-arg-is-ignored'], exit=False)"
   ]
  },
  {
   "cell_type": "markdown",
   "metadata": {},
   "source": [
    "## 課題5 calculator(1,\"+\",2) は 3 を返し，calculator(3,\"/\",2) は 1 を返す"
   ]
  },
  {
   "cell_type": "code",
   "execution_count": 42,
   "metadata": {},
   "outputs": [
    {
     "name": "stderr",
     "output_type": "stream",
     "text": [
      ".\n",
      "----------------------------------------------------------------------\n",
      "Ran 1 test in 0.002s\n",
      "\n",
      "OK\n"
     ]
    }
   ],
   "source": [
    "def calculator(a,op,b):\n",
    "    result = 0;\n",
    "    if op == \"+\":\n",
    "        result = a+b\n",
    "    if op == \"-\":\n",
    "        result = a-b\n",
    "    if op == \"*\":\n",
    "        result = a*b\n",
    "    if op == \"/\":\n",
    "        if b != 0:\n",
    "            result = a/b\n",
    "        \n",
    "    return int(result)\n",
    "\n",
    "\n",
    "import unittest\n",
    "\n",
    "class TestKadai(unittest.TestCase):\n",
    "        \n",
    "    def test_kadai5(self):\n",
    "        self.assertEqual(3, calculator(1,\"+\",2))\n",
    "        self.assertEqual(1, calculator(3,\"/\",2))\n",
    "        self.assertEqual(37, calculator(calculator(3,\"*\",10),\"+\",7))\n",
    "\n",
    "if __name__ == '__main__':\n",
    "    unittest.main(argv=['first-arg-is-ignored'], exit=False)\n"
   ]
  },
  {
   "cell_type": "markdown",
   "metadata": {},
   "source": [
    "## 課題6 変数を含む電卓 ⋆ (calcvar) \n",
    "## TODO\n",
    "変数 x を含む四則演算の式を表す文字列 s を受け取って，引数 x に応じた値を計算する関数を 返す関数 parse(s) を作成せよ.\n",
    "簡単のため文字列 s は以下の条件を満たす\n",
    "• 演算は，Simple Calculator で扱う四則演算のみである\n",
    "• 数字は，0 から 9 までの 1 文字の整数のみが登場する.\n",
    "• 変数は，現れない場合もある.現れる場合も x のみである.\n",
    "• 演算子一つにつきカッコが一組つく.余計なカッコはつかない\n",
    "この課題は，全員の義務ではない.以下にヒントも用意されているが，再帰や多重代入の利用 が想定されるので，経験がない場合は第 5 週以降に考えるのが適しているかもしれない.この課 題に限っては C++ を用いても良い.ただし Python の eval は使用禁止とする."
   ]
  },
  {
   "cell_type": "code",
   "execution_count": null,
   "metadata": {},
   "outputs": [],
   "source": []
  },
  {
   "cell_type": "code",
   "execution_count": null,
   "metadata": {},
   "outputs": [],
   "source": [
    "\n",
    "\n",
    "\n"
   ]
  },
  {
   "cell_type": "code",
   "execution_count": null,
   "metadata": {},
   "outputs": [],
   "source": []
  }
 ],
 "metadata": {
  "kernelspec": {
   "display_name": "Python 3",
   "language": "python",
   "name": "python3"
  },
  "language_info": {
   "codemirror_mode": {
    "name": "ipython",
    "version": 3
   },
   "file_extension": ".py",
   "mimetype": "text/x-python",
   "name": "python",
   "nbconvert_exporter": "python",
   "pygments_lexer": "ipython3",
   "version": "3.7.6"
  }
 },
 "nbformat": 4,
 "nbformat_minor": 2
}
