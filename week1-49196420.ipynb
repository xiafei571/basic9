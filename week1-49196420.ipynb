{
 "cells": [
  {
   "cell_type": "markdown",
   "metadata": {},
   "source": [
    "# 第n回課題"
   ]
  },
  {
   "cell_type": "markdown",
   "metadata": {},
   "source": [
    "## 課題1 九九 (p99)"
   ]
  },
  {
   "cell_type": "code",
   "execution_count": 24,
   "metadata": {
    "scrolled": true
   },
   "outputs": [
    {
     "name": "stdout",
     "output_type": "stream",
     "text": [
      "1 * 1 = 1  \n",
      "2 * 1 = 2  2 * 2 = 4  \n",
      "3 * 1 = 3  3 * 2 = 6  3 * 3 = 9  \n",
      "4 * 1 = 4  4 * 2 = 8  4 * 3 = 12  4 * 4 = 16  \n",
      "5 * 1 = 5  5 * 2 = 10  5 * 3 = 15  5 * 4 = 20  5 * 5 = 25  \n",
      "6 * 1 = 6  6 * 2 = 12  6 * 3 = 18  6 * 4 = 24  6 * 5 = 30  6 * 6 = 36  \n",
      "7 * 1 = 7  7 * 2 = 14  7 * 3 = 21  7 * 4 = 28  7 * 5 = 35  7 * 6 = 42  7 * 7 = 49  \n",
      "8 * 1 = 8  8 * 2 = 16  8 * 3 = 24  8 * 4 = 32  8 * 5 = 40  8 * 6 = 48  8 * 7 = 56  8 * 8 = 64  \n",
      "9 * 1 = 9  9 * 2 = 18  9 * 3 = 27  9 * 4 = 36  9 * 5 = 45  9 * 6 = 54  9 * 7 = 63  9 * 8 = 72  9 * 9 = 81  \n"
     ]
    }
   ],
   "source": [
    "def p99(x):\n",
    "    for i in range(1,x+1):\n",
    "        for j in range(1,i+1):\n",
    "            print(i,\"*\",j,\"=\",i*j,\" \", end=\"\")\n",
    "        print()\n",
    "        \n",
    "p99(9);"
   ]
  },
  {
   "cell_type": "markdown",
   "metadata": {},
   "source": [
    "## 課題2 三角 2 (triangle2)"
   ]
  },
  {
   "cell_type": "code",
   "execution_count": 25,
   "metadata": {},
   "outputs": [
    {
     "name": "stdout",
     "output_type": "stream",
     "text": [
      "****\n",
      "***\n",
      "**\n",
      "*\n",
      "\n"
     ]
    }
   ],
   "source": [
    "def triangle2(x):\n",
    "    for i in range(x+1):\n",
    "        for j in range(x-i):\n",
    "            print(\"*\",end=\"\")\n",
    "        print()\n",
    "triangle2(4)"
   ]
  },
  {
   "cell_type": "markdown",
   "metadata": {},
   "source": [
    "## 課題3 矢印 (arrow)"
   ]
  },
  {
   "cell_type": "code",
   "execution_count": 23,
   "metadata": {},
   "outputs": [
    {
     "name": "stdout",
     "output_type": "stream",
     "text": [
      "   *\n",
      "  ***\n",
      " *****\n",
      "*******\n",
      "   *\n",
      "   *\n",
      "   *\n"
     ]
    }
   ],
   "source": [
    "def arrow(x):\n",
    "    for i in range(2*x+1):\n",
    "        if i <= x:\n",
    "            #print space\n",
    "            for j in range(x-i):\n",
    "                print(\" \", end=\"\")\n",
    "            #print *\n",
    "            for k in range(2*i+1):\n",
    "                print(\"*\", end=\"\")\n",
    "            print()\n",
    "        else:\n",
    "            for s in range(x):\n",
    "                print(\" \", end=\"\")\n",
    "            print(\"*\")\n",
    "            \n",
    "        \n",
    "arrow(3)"
   ]
  },
  {
   "cell_type": "code",
   "execution_count": 22,
   "metadata": {},
   "outputs": [
    {
     "name": "stdout",
     "output_type": "stream",
     "text": [
      "                                         *        \n",
      "                                        ***       \n",
      "                         *             *****      \n",
      "                        ***           *******     \n",
      "                       *****         *********    \n",
      "                      *******       ***********   \n",
      "            *        *********     *************  \n",
      "           ***      ***********   *************** \n",
      "          *****    ************* *****************\n",
      "         *******  ***************        *        \n",
      "   *    *********        *               *        \n",
      "  ***  ***********       *               *        \n",
      " *****      *            *               *        \n",
      "*******     *            *               *        \n",
      "   *        *            *               *        \n",
      "   *        *            *               *        \n",
      "   *        *            *               *        \n"
     ]
    }
   ],
   "source": [
    "def forest(array):\n",
    "    \n",
    "    forestArray = generate2DArray(array)\n",
    "    n_tree = 0;\n",
    "    start = 0;\n",
    "   \n",
    "    for x in array:\n",
    "        # padding-top\n",
    "        padding = len(forestArray) - (2*x+1) \n",
    "        # line\n",
    "        for i in range(2*x+1):\n",
    "            if i <= x:\n",
    "                for k in range(2*i+1):\n",
    "                    forestArray[i+padding][x-i+k+(2*start + n_tree)] = 1\n",
    "            else:\n",
    "                forestArray[i+padding][x+(2*start + n_tree)]=1\n",
    "                \n",
    "        start = start + x        \n",
    "        n_tree = n_tree + 1\n",
    "                \n",
    "    printForest(forestArray)\n",
    "    \n",
    "def generate2DArray(x):\n",
    "    h = x[0]\n",
    "    w = 0\n",
    "    for i in x:\n",
    "        w += i*2 + 1\n",
    "        if i > h:\n",
    "            h = i\n",
    "    h = 2 * h +1\n",
    "    array = [[0 for i in range(w)] for j in range(h)]\n",
    "    return array\n",
    "\n",
    "def printForest(x):\n",
    "    for i in range(len(x)):\n",
    "        for j in range(len(x[i])):\n",
    "            if x[i][j] == 1:\n",
    "                print(\"*\", end=\"\")\n",
    "            else:\n",
    "                print(\" \", end=\"\")\n",
    "        print()\n",
    "                \n",
    "\n",
    "forest([3,5,7,8])"
   ]
  },
  {
   "cell_type": "code",
   "execution_count": null,
   "metadata": {},
   "outputs": [],
   "source": []
  }
 ],
 "metadata": {
  "kernelspec": {
   "display_name": "Python 3",
   "language": "python",
   "name": "python3"
  },
  "language_info": {
   "codemirror_mode": {
    "name": "ipython",
    "version": 3
   },
   "file_extension": ".py",
   "mimetype": "text/x-python",
   "name": "python",
   "nbconvert_exporter": "python",
   "pygments_lexer": "ipython3",
   "version": "3.7.6"
  }
 },
 "nbformat": 4,
 "nbformat_minor": 2
}
