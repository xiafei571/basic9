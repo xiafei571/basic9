{
 "cells": [
  {
   "cell_type": "markdown",
   "metadata": {},
   "source": [
    "# 第7回課題\n",
    "\n",
    "### I have updated the code of last week."
   ]
  },
  {
   "cell_type": "markdown",
   "metadata": {},
   "source": [
    "## 課題1"
   ]
  },
  {
   "cell_type": "code",
   "execution_count": 46,
   "metadata": {},
   "outputs": [
    {
     "name": "stderr",
     "output_type": "stream",
     "text": [
      "."
     ]
    },
    {
     "name": "stdout",
     "output_type": "stream",
     "text": [
      "5000\n",
      "3000\n",
      "Insufficient funds\n",
      "1000\n",
      "6000\n",
      "Incorrect password\n"
     ]
    },
    {
     "name": "stderr",
     "output_type": "stream",
     "text": [
      "\n",
      "----------------------------------------------------------------------\n",
      "Ran 1 test in 0.001s\n",
      "\n",
      "OK\n"
     ]
    }
   ],
   "source": [
    "# 銀行口座\n",
    "class BankAccount0:\n",
    "    def __init__(self, initial_balance): \n",
    "        self.balance = initial_balance\n",
    "    def withdraw(self, amount):\n",
    "        if self.balance >= amount:\n",
    "            self.balance -= amount\n",
    "            return self.balance\n",
    "        else:\n",
    "            return \"Insufficient funds\"\n",
    "\n",
    "a = BankAccount0(10000) # aさんの口座を一つつくる\n",
    "b = BankAccount0(10000) # bさんの口座を一つつくる\n",
    "print(a.withdraw(5000))\n",
    "print(b.withdraw(7000))\n",
    "print(b.withdraw(4000))\n",
    "print(a.withdraw(4000))\n",
    "a.balance += 1000000000\n",
    "\n",
    "class BankAccount:\n",
    "    def __init__(self, initial_balance):\n",
    "        self.__balance = initial_balance\n",
    "    def withdraw(self, amount, passwd):\n",
    "        if not passwd == \"secret\":\n",
    "            return \"Incorrect password\"\n",
    "        \n",
    "        if self.__balance >= amount:\n",
    "            self.__balance -= amount\n",
    "            return self.__balance\n",
    "        else:\n",
    "            return \"Insufficient funds\"\n",
    "    def deposit(self, amount):\n",
    "        self.__balance += amount\n",
    "        \n",
    "a1 = BankAccount(10000)\n",
    "# a1.__balance += 1000000000 # 'BankAccount' object has no attribute '__balance'\n",
    "print(a1.withdraw(4000,\"secret\"))\n",
    "print(a1.withdraw(1000,\"123456\"))\n",
    "\n",
    "class Counter:\n",
    "    def __init__(self):\n",
    "        self.__counter = 0\n",
    "    def increment(self):\n",
    "        self.__counter += 1\n",
    "    def count(self):\n",
    "        return self.__counter\n",
    "\n",
    "# 問題1\n",
    "class ClockTimer:\n",
    "    def __init__(self, hour, minute, second):\n",
    "        self.hour = hour\n",
    "        self.minute = minute\n",
    "        self.second = second\n",
    "    def tick(self):\n",
    "        self.second = self.second + 1\n",
    "        if self.second == 60:\n",
    "            self.second = 0\n",
    "            self.minute = self.minute + 1\n",
    "            if self.minute == 60:\n",
    "                self.minute = 0\n",
    "                self.hour = self.hour + 1\n",
    "                if self.hour == 24:\n",
    "                    self.hour = 0    \n",
    "        return self.second\n",
    "\n",
    "\n",
    "\n",
    "import unittest\n",
    "\n",
    "class TestKadai(unittest.TestCase):\n",
    "    def test_clockTimer(self):\n",
    "        timer = ClockTimer(22, 54, 14)\n",
    "        timer.tick()\n",
    "        for _ in range(45): # 45回実行\n",
    "            timer.tick()\n",
    "        self.assertEqual(22, timer.hour)\n",
    "        self.assertEqual(55, timer.minute)\n",
    "        self.assertEqual(0, timer.second)\n",
    "\n",
    "if __name__ == '__main__':\n",
    "    unittest.main(argv=['first-arg-is-ignored'], exit=False)"
   ]
  },
  {
   "cell_type": "markdown",
   "metadata": {},
   "source": [
    "## 課題2"
   ]
  },
  {
   "cell_type": "code",
   "execution_count": 47,
   "metadata": {},
   "outputs": [
    {
     "name": "stderr",
     "output_type": "stream",
     "text": [
      "."
     ]
    },
    {
     "name": "stdout",
     "output_type": "stream",
     "text": [
      "2\n",
      "5\n",
      "55\n",
      "182\n"
     ]
    },
    {
     "name": "stderr",
     "output_type": "stream",
     "text": [
      "\n",
      "----------------------------------------------------------------------\n",
      "Ran 1 test in 0.001s\n",
      "\n",
      "OK\n"
     ]
    }
   ],
   "source": [
    "class Fib:\n",
    "    def __init__(self):\n",
    "        self.__counter = Counter()\n",
    "        \n",
    "    def fib(self, n):\n",
    "        self.__counter.increment()\n",
    "        if n == 0:\n",
    "            return 0\n",
    "        elif n == 1:\n",
    "            return 1\n",
    "        else:\n",
    "            return self.fib(n-1) + self.fib(n-2)\n",
    "        \n",
    "    def count(self):\n",
    "        return self.__counter.count()\n",
    "\n",
    "g = Fib()\n",
    "print(g.fib(3))\n",
    "print(g.count())\n",
    "print(g.fib(10))\n",
    "print(g.count())\n",
    "\n",
    "class MemoFib:\n",
    "    def __init__(self):\n",
    "        self.__counter = Counter()\n",
    "        self.__memo = [-1 for n in range(1000)]\n",
    "        \n",
    "    \n",
    "    def fib(self, n):\n",
    "        if self.__memo[n] == -1:\n",
    "            self.__counter.increment()\n",
    "            if n == 0:\n",
    "                self.__memo[n] = 0\n",
    "            elif n == 1:\n",
    "                self.__memo[n] = 1\n",
    "            else:\n",
    "                self.__memo[n] = self.fib(n-1) + self.fib(n-2)\n",
    "        return self.__memo[n]\n",
    "    \n",
    "    def count(self):\n",
    "        return self.__counter.count()\n",
    "\n",
    "# print(\"memo:\")\n",
    "# m = MemoFib()\n",
    "# print(m.fib(10))\n",
    "# print(m.count())\n",
    "# print(m.fib(20))\n",
    "# print(m.count())\n",
    "# print(m.fib(20))\n",
    "# print(m.count())\n",
    "\n",
    "import unittest\n",
    "\n",
    "class TestKadai(unittest.TestCase):\n",
    "    def test_memoFib(self):\n",
    "        m = MemoFib()\n",
    "        self.assertEqual(55, m.fib(10))\n",
    "        self.assertEqual(11, m.count())\n",
    "        self.assertEqual(6765, m.fib(20))\n",
    "        self.assertEqual(21, m.count())\n",
    "        self.assertEqual(6765, m.fib(20))\n",
    "        self.assertEqual(21, m.count())\n",
    "\n",
    "if __name__ == '__main__':\n",
    "    unittest.main(argv=['first-arg-is-ignored'], exit=False)\n"
   ]
  },
  {
   "cell_type": "markdown",
   "metadata": {},
   "source": [
    "## 課題3"
   ]
  },
  {
   "cell_type": "code",
   "execution_count": 48,
   "metadata": {},
   "outputs": [
    {
     "name": "stderr",
     "output_type": "stream",
     "text": [
      "."
     ]
    },
    {
     "name": "stdout",
     "output_type": "stream",
     "text": [
      "[4, 7] ['000', '100']\n"
     ]
    },
    {
     "name": "stderr",
     "output_type": "stream",
     "text": [
      "\n",
      "----------------------------------------------------------------------\n",
      "Ran 1 test in 0.001s\n",
      "\n",
      "OK\n"
     ]
    }
   ],
   "source": [
    "import random\n",
    "\n",
    "Cooperate = 0\n",
    "Defect = 1\n",
    "Reward = [\n",
    "[ 2, 0 ], [ 3, 1 ]]\n",
    "\n",
    "\n",
    "def valid_action(act):\n",
    "    return act == Cooperate or act == Defect\n",
    "\n",
    "class Player:\n",
    "    def name(self):\n",
    "        pass\n",
    "    def play(self):\n",
    "        pass\n",
    "    def update(self, my_action, op_action):\n",
    "        pass\n",
    "\n",
    "class CooperatePlayer(Player):\n",
    "    def name(self):\n",
    "        return \"CooperatePlayer\"\n",
    "    def play(self):\n",
    "        return Cooperate\n",
    "\n",
    "class DefectPlayer(Player):\n",
    "    def name(self):\n",
    "        return \"DefectPlayer\"\n",
    "    def play(self):\n",
    "        return Defect\n",
    "\n",
    "class RandomPlayer(Player):\n",
    "    def name(self):\n",
    "        return \"RandomPlayer\"\n",
    "    def play(self):\n",
    "        return Cooperate if (random.randrange(2) == 0) else Defect\n",
    "\n",
    "def play_one_game(player_a, player_b):\n",
    "    act_a = player_a.play()\n",
    "    act_b = player_b.play()\n",
    "    if not valid_action(act_a): # 行動がルールに従っているかを確認\n",
    "        raise ValueError\n",
    "    if not valid_action(act_b): # 行動がルールに従っているかを確認\n",
    "        raise ValueError\n",
    "    reward_a = Reward[act_a][act_b]\n",
    "    reward_b = Reward[act_b][act_a]\n",
    "    \n",
    "    player_a.update(act_a, act_b) \n",
    "    player_b.update(act_b, act_a) # 2行で引数の順序が異ることに注意\n",
    "    \n",
    "#     print(player_a.name(), \" v.s. \", player_b.name()) # 結果を表示\n",
    "#     print(\" actions: \", act_a, act_b)\n",
    "#     print(\" rewards: \", reward_a, reward_b)\n",
    "    return act_a, reward_a, act_b, reward_b\n",
    "\n",
    "P = 1.0/8\n",
    "def play_games(player_a, player_b):\n",
    "    sum = [0, 0] # aとbの得点\n",
    "    history = [\"\", \"\"] # a と b の選択を文字列にして保存\n",
    "    while True:\n",
    "        act_a, reward_a, act_b, reward_b = play_one_game(player_a, player_b)\n",
    "        sum[0] += reward_a\n",
    "        sum[1] += reward_b\n",
    "        history[0] += str(act_a)\n",
    "        history[1] += str(act_b)\n",
    "        if (random.random() < P): # 終了判定\n",
    "            break\n",
    "    print(sum, history)\n",
    "    \n",
    "pc = CooperatePlayer()\n",
    "pr = RandomPlayer()\n",
    "play_games(pc, pr)\n",
    "\n",
    "#tit-for-tat：以牙还牙，刚开始选择合作，一旦对方背叛，则下一回合选择背叛惩罚对方，然后回到合作状态\n",
    "class TitForTatPlayer(Player):\n",
    "    def __init__(self):\n",
    "        self.__action = Cooperate\n",
    "    def name(self):\n",
    "        return \"TitForTatPlayer\"\n",
    "    def play(self):\n",
    "        return self.__action\n",
    "    def update(self, my_action, op_action):\n",
    "        if my_action == Cooperate and op_action == Defect:\n",
    "            self.__action = Defect\n",
    "        else:\n",
    "            self.__action = Cooperate\n",
    "            \n",
    "\n",
    "import unittest\n",
    "\n",
    "class TestKadai(unittest.TestCase):\n",
    "    def test_tftplayer(self):\n",
    "        player = TitForTatPlayer()\n",
    "        act = player.play()\n",
    "        self.assertEqual(Cooperate, act) # 初めは協調\n",
    "        player.update(Cooperate, Cooperate)\n",
    "        act = player.play()\n",
    "        self.assertEqual(Cooperate, act) # 協調同士なら協調\n",
    "        player.update(Cooperate, Defect) # 裏切られたら\n",
    "        act = player.play()\n",
    "        self.assertEqual(Defect, act) # 次に裏切る\n",
    "        \n",
    "\n",
    "if __name__ == '__main__':\n",
    "    unittest.main(argv=['first-arg-is-ignored'], exit=False)\n",
    "\n",
    "\n",
    "    "
   ]
  },
  {
   "cell_type": "code",
   "execution_count": null,
   "metadata": {},
   "outputs": [],
   "source": []
  },
  {
   "cell_type": "code",
   "execution_count": null,
   "metadata": {},
   "outputs": [],
   "source": []
  }
 ],
 "metadata": {
  "kernelspec": {
   "display_name": "Python 3",
   "language": "python",
   "name": "python3"
  },
  "language_info": {
   "codemirror_mode": {
    "name": "ipython",
    "version": 3
   },
   "file_extension": ".py",
   "mimetype": "text/x-python",
   "name": "python",
   "nbconvert_exporter": "python",
   "pygments_lexer": "ipython3",
   "version": "3.7.6"
  }
 },
 "nbformat": 4,
 "nbformat_minor": 2
}
