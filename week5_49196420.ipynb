{
 "cells": [
  {
   "cell_type": "markdown",
   "metadata": {},
   "source": [
    "# 第5回課題"
   ]
  },
  {
   "cell_type": "code",
   "execution_count": 23,
   "metadata": {},
   "outputs": [
    {
     "name": "stderr",
     "output_type": "stream",
     "text": [
      "...\n",
      "----------------------------------------------------------------------\n",
      "Ran 3 tests in 0.006s\n",
      "\n",
      "OK\n"
     ]
    }
   ],
   "source": [
    "import math\n",
    "import matplotlib.pyplot as plt\n",
    "\n",
    "\n",
    "# kadai 1\n",
    "Eps = 1e-4\n",
    "def sigmoid(x):\n",
    "    return 1 / (1 + math.exp(-x))\n",
    "\n",
    "def sigmoid_inverse(y,a,b):\n",
    "    m = (a + b)/2.0\n",
    "    fx = sigmoid(m)\n",
    "    if abs(fx - y) < Eps:\n",
    "        return m\n",
    "    elif fx > y:\n",
    "        return sigmoid_inverse(y, a, m)\n",
    "    else:\n",
    "        return sigmoid_inverse(y, m, b)\n",
    "\n",
    "    \n",
    "    \n",
    "#kadai 2\n",
    "a=[1,3,5,7]\n",
    "b=[0,1,10,100,1000]\n",
    "\n",
    "def binary_search(a, x, l, r):\n",
    "    m = (l + r) // 2\n",
    "    if l + 1 == r:\n",
    "        if a[l] == x:\n",
    "            return l\n",
    "        else:\n",
    "            return -1\n",
    "    elif l + 1 < r and a[m] > x:\n",
    "        return binary_search(a, x, l, m)\n",
    "    else:\n",
    "        return binary_search(a, x, m, r)\n",
    "\n",
    "\n",
    "    \n",
    "#kadai 4\n",
    "def merge(a, b):\n",
    "    c=[]\n",
    "    i,j = 0,0\n",
    "    while i<len(a) and j<len(b):\n",
    "        if a[i] < b[j]: \n",
    "            c.append(a[i])\n",
    "            i+=1 \n",
    "        else:\n",
    "            c.append(b[j])\n",
    "            j+=1 \n",
    "            # ループ不変条件: a[0:i]とb[0:j]は昇順にcに詰まっている\n",
    "    c += a[i:] # a[i] 以降の a の要素を全て c に詰める\n",
    "    c += b[j:]\n",
    "    return c\n",
    "\n",
    "def mergesort(a):\n",
    "    if len(a) <= 1:\n",
    "        return a\n",
    "    \n",
    "    left = mergesort(a[:(len(a)+1)//2])\n",
    "    right = mergesort(a[(len(a)+1)//2:])\n",
    "\n",
    "    \n",
    "    return merge(left, right)\n",
    "\n",
    "    \n",
    "\n",
    "import unittest\n",
    "\n",
    "class TestKadai(unittest.TestCase):\n",
    "    \n",
    "    def test_sigmoid_inverse(self):\n",
    "        self.assertAlmostEqual(0,0, sigmoid_inverse(0.5,-10,10), delta = Eps)\n",
    "        self.assertAlmostEqual(-1.3867, sigmoid_inverse(0.2,-10,10), delta = Eps)\n",
    "        \n",
    "    def test_binary_search(self):\n",
    "        self.assertEqual(0, binary_search(a, 1, 0, len(a)))\n",
    "        self.assertEqual(1, binary_search(a, 3, 0, len(a)))\n",
    "        self.assertEqual(2, binary_search(a, 5, 0, len(a)))\n",
    "        self.assertEqual(3, binary_search(a, 7, 0, len(a)))\n",
    "        self.assertEqual(-1, binary_search(a, 2, 0, len(a)))\n",
    "        self.assertEqual(1, binary_search(b, 1, 0, len(a)))\n",
    "        \n",
    "    def test_(self):\n",
    "        self.assertEqual([1,2,3,4,5,6,7,8,9], mergesort([8,3,4,1,5,9,6,7,2]))\n",
    "\n",
    "if __name__ == '__main__':\n",
    "    unittest.main(argv=['first-arg-is-ignored'], exit=False)\n",
    "    "
   ]
  },
  {
   "cell_type": "code",
   "execution_count": 21,
   "metadata": {},
   "outputs": [
    {
     "data": {
      "image/png": "[encoded data removed]",
      "text/plain": [
       "<Figure size 432x288 with 1 Axes>"
      ]
     },
     "metadata": {
      "needs_background": "light"
     },
     "output_type": "display_data"
    }
   ],
   "source": [
    "#kadai 3\n",
    "import matplotlib.pyplot as plt\n",
    "import numpy as np\n",
    "%matplotlib inline\n",
    "\n",
    "def plot_koch(a):\n",
    "    fig = plt.figure()\n",
    "    ax = fig.add_subplot(1,1,1)\n",
    "    a_ = np.array(a)\n",
    "    xlist = a_[:, 0]\n",
    "    ylist = a_[:, 1]\n",
    "    ax.plot(xlist, ylist)\n",
    "    ax.set_title(\"koch curve\")\n",
    "\n",
    "def koch(x0,y0, x1,y1, n): \n",
    "    if n==0:\n",
    "        return [[x0,y0]] # (x0,y0)..(x1,y1)の直線\n",
    "    else:\n",
    "        # 変数の準備\n",
    "        dx = x1 - x0\n",
    "        dy = y1 - y0\n",
    "        sx = x0 + dx / 3.0 \n",
    "        sy = y0 + dy / 3.0\n",
    "        ux = x0 + dx / 2.0 - math.sqrt(3)*dy / 6.0 \n",
    "        uy = y0 + dy / 2.0 + math.sqrt(3)*dx / 6.0\n",
    "        tx = x0 + dx * (2.0 / 3.0)\n",
    "        ty = y0 + dy * (2.0 / 3.0)\n",
    "        # 再帰 ... 部分は適当に埋める\n",
    "        return koch(x0,y0, sx, sy, n-1) + koch(sx, sy, ux, uy, n-1) + koch(ux, uy, tx, ty, n-1) + koch(tx, ty, x1, y1, n-1)\n",
    "\n",
    "    \n",
    "# n0 = koch(0,0,100,0,0)\n",
    "# n1 = koch(0,0,100,0,1)\n",
    "# n2 = koch(0,0,100,0,2)\n",
    "n3 = koch(0,0,100,0,3)\n",
    "\n",
    "# plot_koch(n0)\n",
    "# plot_koch(n1)\n",
    "# plot_koch(n2)\n",
    "plot_koch(n3)"
   ]
  },
  {
   "cell_type": "code",
   "execution_count": null,
   "metadata": {},
   "outputs": [],
   "source": []
  }
 ],
 "metadata": {
  "kernelspec": {
   "display_name": "Python 3",
   "language": "python",
   "name": "python3"
  },
  "language_info": {
   "codemirror_mode": {
    "name": "ipython",
    "version": 3
   },
   "file_extension": ".py",
   "mimetype": "text/x-python",
   "name": "python",
   "nbconvert_exporter": "python",
   "pygments_lexer": "ipython3",
   "version": "3.7.6"
  }
 },
 "nbformat": 4,
 "nbformat_minor": 2
}
