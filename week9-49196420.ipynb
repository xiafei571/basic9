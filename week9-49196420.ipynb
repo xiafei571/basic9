{
 "cells": [
  {
   "cell_type": "markdown",
   "metadata": {},
   "source": [
    "# 第9回課題"
   ]
  },
  {
   "cell_type": "markdown",
   "metadata": {},
   "source": [
    "## 課題1\n",
    "文字列 s の’utf-8’ のバイト列に対する base64 表現を得る，myencode(s) を実装せよ.また， 同関数で変換した base64 表現から，元の文字列を得る mydecode(s) を実装せよ.自分の姓名 (持っている人は漢字) を Base64 でエンコードして表示し，それを復号して元に戻ることを確認す る doctest を付与すること.\n",
    "ヒント:Python3ではbase64というモジュールが用意されている.import base64して使用 せよ.モジュールの使い方は help(base64) により調査せよ.ヒント: バイト列を base64 に変 換する関数はbase64.standard b64encode(b)である.\n"
   ]
  },
  {
   "cell_type": "code",
   "execution_count": 14,
   "metadata": {},
   "outputs": [
    {
     "data": {
      "text/plain": [
       "TestResults(failed=0, attempted=2)"
      ]
     },
     "execution_count": 14,
     "metadata": {},
     "output_type": "execute_result"
    }
   ],
   "source": [
    "import base64\n",
    "import doctest\n",
    "\n",
    "# help(base64)\n",
    "\n",
    "def myencode(s):\n",
    "    \"\"\" Encode bytes-like object s using the standard Base64 alphabet.\n",
    "    >>> myencode('夏飞')\n",
    "    b'5aSP6aOe'\n",
    "    \"\"\" \n",
    "    # b means bytes\n",
    "    s = s.encode(\"utf-8\")\n",
    "    return base64.standard_b64encode(s)\n",
    "\n",
    "def mydecode(s):\n",
    "    \"\"\" Decode bytes encoded with the standard Base64 alphabet.\n",
    "    >>> mydecode(b'5aSP6aOe')\n",
    "    '夏飞'\n",
    "    \"\"\"\n",
    "    s = base64.standard_b64decode(s)\n",
    "    return s.decode(\"utf-8\")\n",
    "    \n",
    "doctest.testmod()"
   ]
  },
  {
   "cell_type": "markdown",
   "metadata": {},
   "source": [
    "## 課題2 二次元配列の保存(write to file2d)\n",
    "数の配列 x と y を，1 行に 2 つの数を空白区切りで書き出す関数 writetofile2d(filename, x,y)を作成せよ.先頭を0行目として，i行目にはx[i] y[i] が出力されるとする.x,y の要素数は同じと仮定して良い.\n",
    "テストは，yi = sin(xi)など適当な関数を適当な刻みで設定した配列を引数に与え，出力ファイ ルを gnuplot で描画する.ソースコード，元データ (あるいはデータ生成関数) とともに，画像を して添付せよ."
   ]
  },
  {
   "cell_type": "code",
   "execution_count": 16,
   "metadata": {},
   "outputs": [
    {
     "data": {
      "text/plain": [
       "<_io.TextIOWrapper name='xy.txt' mode='w' encoding='UTF-8'>"
      ]
     },
     "execution_count": 16,
     "metadata": {},
     "output_type": "execute_result"
    }
   ],
   "source": [
    "import numpy as np\n",
    "\n",
    "def writetofile2d(filename, x,y):\n",
    "    with open (filename, \"w\") as infile:\n",
    "        for i in range(len(x)):\n",
    "            infile.write(\"%f \" % x[i])\n",
    "            infile.write(\"%f\\n\" % y[i])\n",
    "        return infile\n",
    "    \n",
    "x = [0.1 * x for x in range(100)]\n",
    "y = np.sin(x)\n",
    "\n",
    "writetofile2d('xy.txt', x,y)"
   ]
  },
  {
   "cell_type": "markdown",
   "metadata": {},
   "source": [
    "G N U P L O T\n",
    "\tVersion 5.2 patchlevel 8    last modified 2019-12-01 \n",
    "\n",
    "\tCopyright (C) 1986-1993, 1998, 2004, 2007-2019\n",
    "\tThomas Williams, Colin Kelley and many others\n",
    "\n",
    "\tgnuplot home:     http://www.gnuplot.info\n",
    "\tfaq, bugs, etc:   type \"help FAQ\"\n",
    "\timmediate help:   type \"help\"  (plot window: hit 'h')\n",
    "\n",
    "Terminal type is now 'qt'\n",
    "gnuplot> plot 'xy.txt' with linespoints\n",
    "\n",
    "Warning: slow font initializationqt.qpa.fonts: Populating font family aliases took 897 ms. Replace uses of missing font family \"Sans\" with one that exists to avoid this cost. \n",
    "\n",
    "gnuplot> set term pdf\n",
    "\n",
    "Terminal type is now 'pdfcairo'\n",
    "Options are ' transparent enhanced fontscale 0.5 size 5.00in, 3.00in '\n",
    "\n",
    "gnuplot> set out 'output.pdf'\n",
    "\n",
    "gnuplot> replot\n",
    "\n",
    "\n"
   ]
  },
  {
   "cell_type": "markdown",
   "metadata": {},
   "source": [
    "## 課題3 二分木の保存 (write tree, read tree)\n",
    "“7.1.6 内部表現の世界と使用する世界の分離” では二分木をハッシュで表現した.二分木 (たと えばQ&Aで作成したもの)をファイルに保存する関数writetree(filename, tree)と 読み込んで返す関数read tree(filename)を作成せよ.同じ木が復元できていることを確認 せよ."
   ]
  },
  {
   "cell_type": "code",
   "execution_count": 18,
   "metadata": {
    "scrolled": true
   },
   "outputs": [
    {
     "data": {
      "text/plain": [
       "{'number': 'age > 18',\n",
       " 'left': {'number': 'man?',\n",
       "  'left': ['ビールおすすめ！', None, None],\n",
       "  'right': ['サワおすすめ！', None, None]},\n",
       " 'right': ['お酒は飲めません!', None, None]}"
      ]
     },
     "execution_count": 18,
     "metadata": {},
     "output_type": "execute_result"
    }
   ],
   "source": [
    "import json\n",
    "\n",
    "def make_node(num, left, right):\n",
    "    return {\"number\": num, \"left\": left, \"right\": right}\n",
    "\n",
    "def write_tree(filename, tree):\n",
    "    with open(filename, \"w\") as outfile:\n",
    "        outfile.write(json.dumps(tree))\n",
    "\n",
    "def read_tree(filename):\n",
    "    with open(filename, \"r\") as infile:\n",
    "        return json.loads(infile.read())\n",
    "    \n",
    "# question function \n",
    "def make_question_node(q, y, n):\n",
    "    return make_node(q, y, n)\n",
    "\n",
    "def question_text(qnode):\n",
    "    return qnode[\"number\"]\n",
    "\n",
    "def question_yes(qnode):\n",
    "    return qnode[\"left\"]\n",
    "\n",
    "def question_no(qnode):\n",
    "    return qnode[\"right\"]\n",
    "\n",
    "def make_answer_node(answer):\n",
    "    return [answer, EmptyTree, EmptyTree]\n",
    "\n",
    "def answer_text(anode):\n",
    "    return anode[\"number\"]\n",
    "\n",
    "def is_question_node(node):\n",
    "    if not is_empty(node[0]) and not is_empty(node[1]) and not is_empty(node[2]):\n",
    "        return True\n",
    "    else:\n",
    "        return False\n",
    "\n",
    "EmptyTree = None\n",
    "def is_empty(tree):\n",
    "    return tree == EmptyTree\n",
    "\n",
    "    \n",
    "q2 = make_question_node(\"man?\", make_answer_node(\"ビールおすすめ！\"), make_answer_node(\"サワおすすめ！\"))\n",
    "q1 = make_question_node(\"age > 18\", q2, make_answer_node(\"お酒は飲めません!\"))\n",
    "    \n",
    "# tree = make_node(3,1,6)\n",
    "write_tree('tree.txt', q1)\n",
    "read_tree('tree.txt')"
   ]
  }
 ],
 "metadata": {
  "kernelspec": {
   "display_name": "Python 3",
   "language": "python",
   "name": "python3"
  },
  "language_info": {
   "codemirror_mode": {
    "name": "ipython",
    "version": 3
   },
   "file_extension": ".py",
   "mimetype": "text/x-python",
   "name": "python",
   "nbconvert_exporter": "python",
   "pygments_lexer": "ipython3",
   "version": "3.7.6"
  }
 },
 "nbformat": 4,
 "nbformat_minor": 2
}
