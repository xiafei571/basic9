{
 "cells": [
  {
   "cell_type": "markdown",
   "metadata": {},
   "source": [
    "# 第3回課題"
   ]
  },
  {
   "cell_type": "markdown",
   "metadata": {},
   "source": [
    "## 課題3 \n",
    "I'm sorry I went to listen to other courses in previous two weeks. I started this course from the third week. I have submitted my homework for previous two weeks."
   ]
  },
  {
   "cell_type": "code",
   "execution_count": 82,
   "metadata": {},
   "outputs": [
    {
     "name": "stderr",
     "output_type": "stream",
     "text": [
      "......\n",
      "----------------------------------------------------------------------\n",
      "Ran 6 tests in 0.010s\n",
      "\n",
      "OK\n"
     ]
    }
   ],
   "source": [
    "def in_rectangle(w,h,x,y,r):\n",
    "    return x+r<=w and x-r>=0 and y+r<=h and y-r>=0\n",
    "\n",
    "def score(a):\n",
    "    max = a[0]\n",
    "    min = a[0]\n",
    "    sum = 0\n",
    "    for i in a:\n",
    "        if i > max:\n",
    "            max = i\n",
    "        if i < min:\n",
    "            min = i\n",
    "        sum += i\n",
    "    return (sum-max-min)/(len(a)-2)\n",
    "\n",
    "\n",
    "import math\n",
    "\n",
    "def digit_sum(n):\n",
    "    digit_num = math.floor(math.log10(n))+1\n",
    "    \n",
    "    if digit_num < 2:\n",
    "        return int(n)\n",
    "    \n",
    "    sum = 0 \n",
    "    for i in range(digit_num):#012 -> 210\n",
    "        digit = int(n / 10 ** (digit_num-i-1))\n",
    "        \n",
    "        sum += digit\n",
    "        n = n - (digit * 10 ** (digit_num-i-1))\n",
    "    return sum\n",
    "\n",
    "def factor(n):\n",
    "    result=[];\n",
    "    for i in range(1,n+1):\n",
    "        if int(n/i) == n/i:\n",
    "            result.append(i)\n",
    "    return result\n",
    "\n",
    "def decrypt2(x): \n",
    "    a = \"\"\n",
    "    b = \"\"\n",
    "    for i in range(len(x)):\n",
    "        if i % 4 == 0:\n",
    "            a = a + x[i] + x[i+1]\n",
    "            b = b + x[i+2] + x[i+3]\n",
    "    return [a,b]\n",
    "\n",
    "def erase_ta(x):\n",
    "    result = \"\"\n",
    "    for i in range(0,len(x)):\n",
    "        if x[i:i+2] != \"ta\" and x[i-1:i+1] != \"ta\":\n",
    "            result=result+(x[i])\n",
    "    return result\n",
    "\n",
    "\n",
    "import unittest\n",
    "\n",
    "class TestKadai(unittest.TestCase):\n",
    "        \n",
    "    def test_in_rectangle(self):\n",
    "        self.assertFalse(in_rectangle(5,4,2,4,1))\n",
    "    def test_score(self):\n",
    "        self.assertEqual(2, score([1,2,3]))\n",
    "    def test_digit_sum(self):\n",
    "        self.assertEqual(1, digit_sum(1))\n",
    "        self.assertEqual(5, digit_sum(23))\n",
    "        self.assertEqual(7, digit_sum(223))\n",
    "        self.assertEqual(8, digit_sum(11111111))\n",
    "    def test_factor(self):\n",
    "        self.assertEqual([1,2,5,10], factor(10))\n",
    "    def test_decrypt2(self):\n",
    "         self.assertEqual(['tanuki', 'kitune'], decrypt2(\"takinutukine\"))\n",
    "    def test_erase_ta(self):\n",
    "        self.assertEqual(\"tatotauktayotauttao\".replace(\"ta\",\"\"), erase_ta(\"tatotauktayotauttao\"))\n",
    "\n",
    "if __name__ == '__main__':\n",
    "    unittest.main(argv=['first-arg-is-ignored'], exit=False)\n",
    "\n"
   ]
  },
  {
   "cell_type": "code",
   "execution_count": null,
   "metadata": {},
   "outputs": [],
   "source": []
  }
 ],
 "metadata": {
  "kernelspec": {
   "display_name": "Python 3",
   "language": "python",
   "name": "python3"
  },
  "language_info": {
   "codemirror_mode": {
    "name": "ipython",
    "version": 3
   },
   "file_extension": ".py",
   "mimetype": "text/x-python",
   "name": "python",
   "nbconvert_exporter": "python",
   "pygments_lexer": "ipython3",
   "version": "3.7.6"
  }
 },
 "nbformat": 4,
 "nbformat_minor": 2
}
