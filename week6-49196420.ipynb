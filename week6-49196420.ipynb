{
 "cells": [
  {
   "cell_type": "markdown",
   "metadata": {},
   "source": [
    "# 第6回課題"
   ]
  },
  {
   "cell_type": "markdown",
   "metadata": {},
   "source": [
    "## 課題1\n",
    "Sorry about that I can not submit my homework on time because the ITC-LMS is temporarily unable to work due to maintenance downtime(2020-5-24). "
   ]
  },
  {
   "cell_type": "code",
   "execution_count": 61,
   "metadata": {},
   "outputs": [
    {
     "name": "stdout",
     "output_type": "stream",
     "text": [
      "Q: age > 18 ? [yn]\n",
      "y\n",
      "Q: man? ? [yn]\n",
      "y\n"
     ]
    },
    {
     "name": "stderr",
     "output_type": "stream",
     "text": [
      "..."
     ]
    },
    {
     "name": "stdout",
     "output_type": "stream",
     "text": [
      "Answer: ビールおすすめ！\n"
     ]
    },
    {
     "name": "stderr",
     "output_type": "stream",
     "text": [
      "\n",
      "----------------------------------------------------------------------\n",
      "Ran 3 tests in 0.003s\n",
      "\n",
      "OK\n"
     ]
    }
   ],
   "source": [
    "# コードはコード用のセルで書く\n",
    "def make_node(num, left, right): \n",
    "    return [num, left, right]\n",
    "\n",
    "def value(tree):\n",
    "    return tree[0]\n",
    "\n",
    "def left(tree):\n",
    "    return tree[1]\n",
    "\n",
    "def right(tree):\n",
    "    return tree[2]\n",
    "\n",
    "# また，特殊ケースとして空の節点を None で表わすことにする\n",
    "EmptyTree = None\n",
    "def is_empty(tree):\n",
    "    return tree == EmptyTree\n",
    "# 便利のために，子を持たない節点 (=葉) を作るための略記法を用意\n",
    "def make_leaf(num):\n",
    "    return make_node(num, EmptyTree, EmptyTree)\n",
    "\n",
    "t0 = make_leaf(2)\n",
    "t1 = make_node(1, make_leaf(3), make_leaf(5))\n",
    "t2 = make_node(3, t1, t0)\n",
    "# print(value(right(left(t2))))\n",
    "\n",
    "def count_node(t):\n",
    "    if is_empty(t):\n",
    "        return 0\n",
    "    else:\n",
    "        return 1 + count_node(left(t)) + count_node(right(t))\n",
    "    \n",
    "def sum_node(t):\n",
    "    if is_empty(t):\n",
    "        return 0\n",
    "    else:\n",
    "        value(t) + sum_node(left(t)) + sum_node(right(t))\n",
    "\n",
    "\n",
    "def max_value(t):\n",
    "    mv = value(t)\n",
    "    if not is_empty(left(t)) and mv < max_value(left(t)):\n",
    "        mv = max_value(left(t))\n",
    "    if not is_empty(right(t)) and mv < max_value(right(t)):\n",
    "        mv = max_value(right(t)) \n",
    "    return mv\n",
    "\n",
    "def preorder(t):\n",
    "    if is_empty(t):\n",
    "        return []\n",
    "    else:\n",
    "        return [value(t)]+preorder(left(t))+preorder(right(t))\n",
    "    \n",
    "def inorder(t):\n",
    "    if is_empty(t):\n",
    "        return []\n",
    "    else:\n",
    "        return inorder(left(t))+[value(t)]+inorder(right(t))\n",
    "    \n",
    "# print(preorder(t2))\n",
    "# print(inorder(t2))\n",
    "\n",
    "def add_node(t, x):\n",
    "    if is_empty(t):\n",
    "        t = make_leaf(x)\n",
    "    else:\n",
    "        if x < value(t):\n",
    "            t[1] = add_node(left(t),x)\n",
    "        else:\n",
    "            t[2] = add_node(right(t),x)\n",
    "\n",
    "    return t\n",
    "\n",
    "def make_binary_search_tree(a):\n",
    "    t = None\n",
    "    for x in a:\n",
    "        t = add_node(t, x)\n",
    "    return t\n",
    "\n",
    "t = make_binary_search_tree([3,1,6,1,7,9,2,0,5])\n",
    "\n",
    "\n",
    "def display(node):\n",
    "    if is_question_node(node):\n",
    "        # 質問の場合，質問文を表示して y/n をキーボードから読み込む \n",
    "        print(\"Q: \"+question_text(node)+ \" ? [yn]\")\n",
    "        yn = input()\n",
    "        if yn.lower()[0] == \"y\":\n",
    "            display(question_yes(node)) \n",
    "        else:\n",
    "            display(question_no(node)) \n",
    "    else:\n",
    "        # 答えの場合，メッセージを表示する print(\"---\")\n",
    "        print(\"Answer: \" + answer_text(node))\n",
    "\n",
    "def make_question_node(q, y, n):\n",
    "    return [q, y, n]\n",
    "\n",
    "def question_text(qnode):\n",
    "    return qnode[0]\n",
    "\n",
    "def question_yes(qnode):\n",
    "    return qnode[1]\n",
    "\n",
    "def question_no(qnode):\n",
    "    return qnode[2]\n",
    "\n",
    "def make_answer_node(answer):\n",
    "    return [answer, EmptyTree, EmptyTree]\n",
    "\n",
    "def answer_text(anode):\n",
    "    return anode[0]\n",
    "\n",
    "def is_question_node(node):\n",
    "    if not is_empty(node[0]) and not is_empty(node[1]) and not is_empty(node[2]):\n",
    "        return True\n",
    "    else:\n",
    "        return False\n",
    "\n",
    "    \n",
    "q2 = make_question_node(\"man?\", make_answer_node(\"ビールおすすめ！\"), make_answer_node(\"サワおすすめ！\"))\n",
    "q1 = make_question_node(\"age > 18\", q2, make_answer_node(\"お酒は飲めません!\"))\n",
    "\n",
    "display(q1)\n",
    "\n",
    "\n",
    "\n",
    "import unittest\n",
    "\n",
    "class TestKadai(unittest.TestCase):\n",
    "    \n",
    "    def test_max_value(self):\n",
    "        self.assertEqual(2, max_value(t0))\n",
    "        self.assertEqual(5, max_value(t1))\n",
    "        self.assertEqual(5, max_value(t2))\n",
    "    def test_preorder(self):\n",
    "        self.assertEqual([2], inorder(t0))\n",
    "        self.assertEqual([3, 1, 5], inorder(t1))\n",
    "        self.assertEqual([3, 1, 5, 3, 2], inorder(t2))\n",
    "    def test_make_binary_search_tree(self):\n",
    "        self.assertEqual([3, [1, [0, None, None], [1, None, [2, None, None]]], [6, [5, None, None], [7, None, [9, None, None]]]], t)\n",
    "        self.assertEqual(9, count_node(t))\n",
    "        self.assertEqual([0, 1, 1, 2, 3, 5, 6, 7, 9],inorder(t))\n",
    "        \n",
    "if __name__ == '__main__':\n",
    "    unittest.main(argv=['first-arg-is-ignored'], exit=False)"
   ]
  },
  {
   "cell_type": "markdown",
   "metadata": {},
   "source": [
    "## 課題5\n",
    "How to calculate the result?"
   ]
  },
  {
   "cell_type": "code",
   "execution_count": 81,
   "metadata": {},
   "outputs": [
    {
     "name": "stdout",
     "output_type": "stream",
     "text": [
      "[3, '*', 5, '+', 2]\n"
     ]
    }
   ],
   "source": [
    "def make_node(x, y, z):\n",
    "    return [x, y, z]\n",
    "\n",
    "def make_leaf(x):\n",
    "    return [x, None, None]\n",
    "\n",
    "\n",
    "def calc(t):\n",
    "    if is_empty(t):\n",
    "        return []\n",
    "    else:\n",
    "        return calc(left(t))+[value(t)]+calc(right(t))\n",
    "\n",
    "t = make_node(\"+\", make_node(\"*\", make_leaf(3), make_leaf(5)), make_leaf(2))\n",
    "\n",
    "print(calc(t))\n",
    "\n"
   ]
  },
  {
   "cell_type": "code",
   "execution_count": 82,
   "metadata": {},
   "outputs": [
    {
     "name": "stdout",
     "output_type": "stream",
     "text": [
      "3\n",
      "1\n",
      "6\n"
     ]
    }
   ],
   "source": [
    "class Node:\n",
    "    def __init__(self, value, left, right): \n",
    "        self.value = value\n",
    "        self.left = left\n",
    "        self.right = right\n",
    "\n",
    "\n",
    "def make_node(num, left, right):\n",
    "    return Node(num, left, right)\n",
    "\n",
    "def value(tree):\n",
    "    return tree.value\n",
    "\n",
    "def left(tree):\n",
    "    return tree.left\n",
    "\n",
    "def right(tree):\n",
    "    return tree.right\n",
    "\n",
    "\n",
    "n = make_node(3,1,6)\n",
    "\n",
    "print(value(n))\n",
    "print(left(n))\n",
    "print(right(n))\n"
   ]
  }
 ],
 "metadata": {
  "kernelspec": {
   "display_name": "Python 3",
   "language": "python",
   "name": "python3"
  },
  "language_info": {
   "codemirror_mode": {
    "name": "ipython",
    "version": 3
   },
   "file_extension": ".py",
   "mimetype": "text/x-python",
   "name": "python",
   "nbconvert_exporter": "python",
   "pygments_lexer": "ipython3",
   "version": "3.7.6"
  }
 },
 "nbformat": 4,
 "nbformat_minor": 2
}
